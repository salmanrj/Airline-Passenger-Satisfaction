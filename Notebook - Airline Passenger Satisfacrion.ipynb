{
  "nbformat": 4,
  "nbformat_minor": 2,
  "metadata": {
    "colab": {
      "name": "Tugas AI - ML",
      "provenance": [],
      "collapsed_sections": [],
      "toc_visible": true
    },
    "kernelspec": {
      "name": "python3",
      "display_name": "Python 3"
    },
    "language_info": {
      "name": "python"
    }
  },
  "cells": [
    {
      "cell_type": "markdown",
      "source": [
        "# **Introduction**\n"
      ],
      "metadata": {
        "id": "Q1I5Y4NWavWL"
      }
    },
    {
      "cell_type": "markdown",
      "source": [
        "**Salman Rahwidean Janotama** || **18/428633/TK/47135**\n",
        "\n",
        "---\n",
        "\n",
        "**Artificial Intelligence - Airline Passenger Satisfaction**"
      ],
      "metadata": {
        "id": "CibU08xnbMfF"
      }
    },
    {
      "cell_type": "markdown",
      "source": [
        "Pada notebook ini akan diselesaikan masalah dari sebuah maskapai penerbangan. Masalah tersebut adalah **diperlukan sebuah analisis hasil survey penumpang yang berisi rating dari setiap layanan yang disediakan oleh maskapai serta tingkat kepuasannya**. Hasil dari analisis ini diharapkan Maskapai dapat **mengetahui faktor/layanan apa yang paling berpengaruh dengan tingkat kepuasan penumpang**."
      ],
      "metadata": {
        "id": "DToz5bQREdTk"
      }
    },
    {
      "cell_type": "markdown",
      "source": [
        "Proses analisis akan dilakukan dengan menggunakan **Algoritma K-Nearest Neighbors**."
      ],
      "metadata": {
        "id": "u9H9Q7vDIox1"
      }
    },
    {
      "cell_type": "markdown",
      "source": [
        "# **Dataset**"
      ],
      "metadata": {
        "id": "2ZuFIIW3D5N3"
      }
    },
    {
      "cell_type": "markdown",
      "source": [
        "Dataset yang digunakan adalah data set **Airline Passenger Satisfaction** yang didapat dari Kaggle. Dataset berisikan 23 instances yang terbagi menjadi dua kategori besar, yaitu informasi pribadi dan rating layanan maskapai.\n",
        "\n",
        "*link dataset:* https://www.kaggle.com/teejmahal20/airline-passenger-satisfaction"
      ],
      "metadata": {
        "id": "5hj-H3NUEJBa"
      }
    },
    {
      "cell_type": "markdown",
      "source": [
        "##**Preprocessing Dataset**"
      ],
      "metadata": {
        "id": "yMBCfuRpH0VC"
      }
    },
    {
      "cell_type": "markdown",
      "source": [
        "**Cloning Repository untuk mendapatkan dataset**"
      ],
      "metadata": {
        "id": "wMV3rS2cVvCr"
      }
    },
    {
      "cell_type": "code",
      "execution_count": 86,
      "source": [
        "!git clone https://github.com/salmanrj/Airline-Passenger-Satisfaction.git"
      ],
      "outputs": [
        {
          "output_type": "stream",
          "name": "stdout",
          "text": [
            "fatal: destination path 'Airline-Passenger-Satisfaction' already exists and is not an empty directory.\n"
          ]
        }
      ],
      "metadata": {
        "colab": {
          "base_uri": "https://localhost:8080/"
        },
        "id": "G9p-O_AfIFdv",
        "outputId": "a9d3d885-ffeb-45f1-f3a6-9f07d68b082b"
      }
    },
    {
      "cell_type": "markdown",
      "source": [
        "**List library yang digunakan**"
      ],
      "metadata": {
        "id": "2mF6RBhAV11R"
      }
    },
    {
      "cell_type": "code",
      "execution_count": 87,
      "source": [
        "import numpy as np\r\n",
        "import matplotlib.pyplot as plt\r\n",
        "import pandas as pd\r\n",
        "import random as rnd\r\n",
        "import seaborn as sns"
      ],
      "outputs": [],
      "metadata": {
        "id": "7b38poKCRj8F"
      }
    },
    {
      "cell_type": "markdown",
      "source": [
        "**Path untuk dataset yang dimiliki**"
      ],
      "metadata": {
        "id": "6QHZSLdjV9m1"
      }
    },
    {
      "cell_type": "code",
      "execution_count": 88,
      "source": [
        "PATH_DATASET = \"/content/Airline-Passenger-Satisfaction/dataset/dataset.csv\""
      ],
      "outputs": [],
      "metadata": {
        "id": "gGn5-3cVSotF"
      }
    },
    {
      "cell_type": "markdown",
      "source": [
        "**Plot dataset Train yang dimiliki**"
      ],
      "metadata": {
        "id": "0etFevVdV-3X"
      }
    },
    {
      "cell_type": "code",
      "execution_count": 89,
      "source": [
        "data = pd.read_csv(PATH_DATASET, index_col='id')\r\n",
        "data = data.sort_values('id', ascending=True)\r\n",
        "data.head()"
      ],
      "outputs": [
        {
          "output_type": "execute_result",
          "data": {
            "text/html": [
              "<div>\n",
              "<style scoped>\n",
              "    .dataframe tbody tr th:only-of-type {\n",
              "        vertical-align: middle;\n",
              "    }\n",
              "\n",
              "    .dataframe tbody tr th {\n",
              "        vertical-align: top;\n",
              "    }\n",
              "\n",
              "    .dataframe thead th {\n",
              "        text-align: right;\n",
              "    }\n",
              "</style>\n",
              "<table border=\"1\" class=\"dataframe\">\n",
              "  <thead>\n",
              "    <tr style=\"text-align: right;\">\n",
              "      <th></th>\n",
              "      <th>Unnamed: 0</th>\n",
              "      <th>Gender</th>\n",
              "      <th>Customer Type</th>\n",
              "      <th>Age</th>\n",
              "      <th>Type of Travel</th>\n",
              "      <th>Class</th>\n",
              "      <th>Flight Distance</th>\n",
              "      <th>Inflight wifi service</th>\n",
              "      <th>Departure/Arrival time convenient</th>\n",
              "      <th>Ease of Online booking</th>\n",
              "      <th>Gate location</th>\n",
              "      <th>Food and drink</th>\n",
              "      <th>Online boarding</th>\n",
              "      <th>Seat comfort</th>\n",
              "      <th>Inflight entertainment</th>\n",
              "      <th>On-board service</th>\n",
              "      <th>Leg room service</th>\n",
              "      <th>Baggage handling</th>\n",
              "      <th>Checkin service</th>\n",
              "      <th>Inflight service</th>\n",
              "      <th>Cleanliness</th>\n",
              "      <th>Departure Delay in Minutes</th>\n",
              "      <th>Arrival Delay in Minutes</th>\n",
              "      <th>satisfaction</th>\n",
              "    </tr>\n",
              "    <tr>\n",
              "      <th>id</th>\n",
              "      <th></th>\n",
              "      <th></th>\n",
              "      <th></th>\n",
              "      <th></th>\n",
              "      <th></th>\n",
              "      <th></th>\n",
              "      <th></th>\n",
              "      <th></th>\n",
              "      <th></th>\n",
              "      <th></th>\n",
              "      <th></th>\n",
              "      <th></th>\n",
              "      <th></th>\n",
              "      <th></th>\n",
              "      <th></th>\n",
              "      <th></th>\n",
              "      <th></th>\n",
              "      <th></th>\n",
              "      <th></th>\n",
              "      <th></th>\n",
              "      <th></th>\n",
              "      <th></th>\n",
              "      <th></th>\n",
              "      <th></th>\n",
              "    </tr>\n",
              "  </thead>\n",
              "  <tbody>\n",
              "    <tr>\n",
              "      <th>1</th>\n",
              "      <td>90131</td>\n",
              "      <td>Male</td>\n",
              "      <td>disloyal Customer</td>\n",
              "      <td>48</td>\n",
              "      <td>Business travel</td>\n",
              "      <td>Business</td>\n",
              "      <td>821</td>\n",
              "      <td>3</td>\n",
              "      <td>3</td>\n",
              "      <td>3</td>\n",
              "      <td>3</td>\n",
              "      <td>5</td>\n",
              "      <td>3</td>\n",
              "      <td>5</td>\n",
              "      <td>5</td>\n",
              "      <td>3</td>\n",
              "      <td>2</td>\n",
              "      <td>5</td>\n",
              "      <td>4</td>\n",
              "      <td>5</td>\n",
              "      <td>5</td>\n",
              "      <td>2</td>\n",
              "      <td>5.0</td>\n",
              "      <td>neutral or dissatisfied</td>\n",
              "    </tr>\n",
              "    <tr>\n",
              "      <th>2</th>\n",
              "      <td>47865</td>\n",
              "      <td>Female</td>\n",
              "      <td>Loyal Customer</td>\n",
              "      <td>35</td>\n",
              "      <td>Business travel</td>\n",
              "      <td>Business</td>\n",
              "      <td>821</td>\n",
              "      <td>2</td>\n",
              "      <td>2</td>\n",
              "      <td>2</td>\n",
              "      <td>2</td>\n",
              "      <td>3</td>\n",
              "      <td>5</td>\n",
              "      <td>4</td>\n",
              "      <td>5</td>\n",
              "      <td>5</td>\n",
              "      <td>5</td>\n",
              "      <td>5</td>\n",
              "      <td>3</td>\n",
              "      <td>5</td>\n",
              "      <td>5</td>\n",
              "      <td>26</td>\n",
              "      <td>39.0</td>\n",
              "      <td>satisfied</td>\n",
              "    </tr>\n",
              "    <tr>\n",
              "      <th>3</th>\n",
              "      <td>44425</td>\n",
              "      <td>Male</td>\n",
              "      <td>Loyal Customer</td>\n",
              "      <td>41</td>\n",
              "      <td>Business travel</td>\n",
              "      <td>Business</td>\n",
              "      <td>853</td>\n",
              "      <td>4</td>\n",
              "      <td>4</td>\n",
              "      <td>4</td>\n",
              "      <td>4</td>\n",
              "      <td>5</td>\n",
              "      <td>5</td>\n",
              "      <td>5</td>\n",
              "      <td>3</td>\n",
              "      <td>3</td>\n",
              "      <td>3</td>\n",
              "      <td>3</td>\n",
              "      <td>4</td>\n",
              "      <td>3</td>\n",
              "      <td>5</td>\n",
              "      <td>0</td>\n",
              "      <td>0.0</td>\n",
              "      <td>satisfied</td>\n",
              "    </tr>\n",
              "    <tr>\n",
              "      <th>4</th>\n",
              "      <td>96450</td>\n",
              "      <td>Male</td>\n",
              "      <td>Loyal Customer</td>\n",
              "      <td>50</td>\n",
              "      <td>Business travel</td>\n",
              "      <td>Business</td>\n",
              "      <td>1905</td>\n",
              "      <td>2</td>\n",
              "      <td>2</td>\n",
              "      <td>2</td>\n",
              "      <td>2</td>\n",
              "      <td>4</td>\n",
              "      <td>4</td>\n",
              "      <td>5</td>\n",
              "      <td>5</td>\n",
              "      <td>5</td>\n",
              "      <td>5</td>\n",
              "      <td>5</td>\n",
              "      <td>3</td>\n",
              "      <td>5</td>\n",
              "      <td>4</td>\n",
              "      <td>0</td>\n",
              "      <td>0.0</td>\n",
              "      <td>satisfied</td>\n",
              "    </tr>\n",
              "    <tr>\n",
              "      <th>5</th>\n",
              "      <td>72524</td>\n",
              "      <td>Female</td>\n",
              "      <td>Loyal Customer</td>\n",
              "      <td>49</td>\n",
              "      <td>Business travel</td>\n",
              "      <td>Business</td>\n",
              "      <td>3470</td>\n",
              "      <td>3</td>\n",
              "      <td>3</td>\n",
              "      <td>3</td>\n",
              "      <td>3</td>\n",
              "      <td>4</td>\n",
              "      <td>5</td>\n",
              "      <td>4</td>\n",
              "      <td>3</td>\n",
              "      <td>3</td>\n",
              "      <td>4</td>\n",
              "      <td>3</td>\n",
              "      <td>3</td>\n",
              "      <td>3</td>\n",
              "      <td>5</td>\n",
              "      <td>0</td>\n",
              "      <td>1.0</td>\n",
              "      <td>satisfied</td>\n",
              "    </tr>\n",
              "  </tbody>\n",
              "</table>\n",
              "</div>"
            ],
            "text/plain": [
              "    Unnamed: 0  Gender  ... Arrival Delay in Minutes             satisfaction\n",
              "id                      ...                                                  \n",
              "1        90131    Male  ...                      5.0  neutral or dissatisfied\n",
              "2        47865  Female  ...                     39.0                satisfied\n",
              "3        44425    Male  ...                      0.0                satisfied\n",
              "4        96450    Male  ...                      0.0                satisfied\n",
              "5        72524  Female  ...                      1.0                satisfied\n",
              "\n",
              "[5 rows x 24 columns]"
            ]
          },
          "metadata": {},
          "execution_count": 89
        }
      ],
      "metadata": {
        "colab": {
          "base_uri": "https://localhost:8080/",
          "height": 391
        },
        "id": "NS0MdWdaSYWs",
        "outputId": "1998794d-9dcc-4417-cd86-b245f690bd39"
      }
    },
    {
      "cell_type": "markdown",
      "source": [
        "Karena terdapat data yang tidak diperlukan maka kolom \"Unnamed: 0\" akan dibuang"
      ],
      "metadata": {
        "id": "oAsnbaz_WOmm"
      }
    },
    {
      "cell_type": "code",
      "execution_count": 90,
      "source": [
        "data = data.drop('Unnamed: 0', axis=1)\r\n",
        "data.head()"
      ],
      "outputs": [
        {
          "output_type": "execute_result",
          "data": {
            "text/html": [
              "<div>\n",
              "<style scoped>\n",
              "    .dataframe tbody tr th:only-of-type {\n",
              "        vertical-align: middle;\n",
              "    }\n",
              "\n",
              "    .dataframe tbody tr th {\n",
              "        vertical-align: top;\n",
              "    }\n",
              "\n",
              "    .dataframe thead th {\n",
              "        text-align: right;\n",
              "    }\n",
              "</style>\n",
              "<table border=\"1\" class=\"dataframe\">\n",
              "  <thead>\n",
              "    <tr style=\"text-align: right;\">\n",
              "      <th></th>\n",
              "      <th>Gender</th>\n",
              "      <th>Customer Type</th>\n",
              "      <th>Age</th>\n",
              "      <th>Type of Travel</th>\n",
              "      <th>Class</th>\n",
              "      <th>Flight Distance</th>\n",
              "      <th>Inflight wifi service</th>\n",
              "      <th>Departure/Arrival time convenient</th>\n",
              "      <th>Ease of Online booking</th>\n",
              "      <th>Gate location</th>\n",
              "      <th>Food and drink</th>\n",
              "      <th>Online boarding</th>\n",
              "      <th>Seat comfort</th>\n",
              "      <th>Inflight entertainment</th>\n",
              "      <th>On-board service</th>\n",
              "      <th>Leg room service</th>\n",
              "      <th>Baggage handling</th>\n",
              "      <th>Checkin service</th>\n",
              "      <th>Inflight service</th>\n",
              "      <th>Cleanliness</th>\n",
              "      <th>Departure Delay in Minutes</th>\n",
              "      <th>Arrival Delay in Minutes</th>\n",
              "      <th>satisfaction</th>\n",
              "    </tr>\n",
              "    <tr>\n",
              "      <th>id</th>\n",
              "      <th></th>\n",
              "      <th></th>\n",
              "      <th></th>\n",
              "      <th></th>\n",
              "      <th></th>\n",
              "      <th></th>\n",
              "      <th></th>\n",
              "      <th></th>\n",
              "      <th></th>\n",
              "      <th></th>\n",
              "      <th></th>\n",
              "      <th></th>\n",
              "      <th></th>\n",
              "      <th></th>\n",
              "      <th></th>\n",
              "      <th></th>\n",
              "      <th></th>\n",
              "      <th></th>\n",
              "      <th></th>\n",
              "      <th></th>\n",
              "      <th></th>\n",
              "      <th></th>\n",
              "      <th></th>\n",
              "    </tr>\n",
              "  </thead>\n",
              "  <tbody>\n",
              "    <tr>\n",
              "      <th>1</th>\n",
              "      <td>Male</td>\n",
              "      <td>disloyal Customer</td>\n",
              "      <td>48</td>\n",
              "      <td>Business travel</td>\n",
              "      <td>Business</td>\n",
              "      <td>821</td>\n",
              "      <td>3</td>\n",
              "      <td>3</td>\n",
              "      <td>3</td>\n",
              "      <td>3</td>\n",
              "      <td>5</td>\n",
              "      <td>3</td>\n",
              "      <td>5</td>\n",
              "      <td>5</td>\n",
              "      <td>3</td>\n",
              "      <td>2</td>\n",
              "      <td>5</td>\n",
              "      <td>4</td>\n",
              "      <td>5</td>\n",
              "      <td>5</td>\n",
              "      <td>2</td>\n",
              "      <td>5.0</td>\n",
              "      <td>neutral or dissatisfied</td>\n",
              "    </tr>\n",
              "    <tr>\n",
              "      <th>2</th>\n",
              "      <td>Female</td>\n",
              "      <td>Loyal Customer</td>\n",
              "      <td>35</td>\n",
              "      <td>Business travel</td>\n",
              "      <td>Business</td>\n",
              "      <td>821</td>\n",
              "      <td>2</td>\n",
              "      <td>2</td>\n",
              "      <td>2</td>\n",
              "      <td>2</td>\n",
              "      <td>3</td>\n",
              "      <td>5</td>\n",
              "      <td>4</td>\n",
              "      <td>5</td>\n",
              "      <td>5</td>\n",
              "      <td>5</td>\n",
              "      <td>5</td>\n",
              "      <td>3</td>\n",
              "      <td>5</td>\n",
              "      <td>5</td>\n",
              "      <td>26</td>\n",
              "      <td>39.0</td>\n",
              "      <td>satisfied</td>\n",
              "    </tr>\n",
              "    <tr>\n",
              "      <th>3</th>\n",
              "      <td>Male</td>\n",
              "      <td>Loyal Customer</td>\n",
              "      <td>41</td>\n",
              "      <td>Business travel</td>\n",
              "      <td>Business</td>\n",
              "      <td>853</td>\n",
              "      <td>4</td>\n",
              "      <td>4</td>\n",
              "      <td>4</td>\n",
              "      <td>4</td>\n",
              "      <td>5</td>\n",
              "      <td>5</td>\n",
              "      <td>5</td>\n",
              "      <td>3</td>\n",
              "      <td>3</td>\n",
              "      <td>3</td>\n",
              "      <td>3</td>\n",
              "      <td>4</td>\n",
              "      <td>3</td>\n",
              "      <td>5</td>\n",
              "      <td>0</td>\n",
              "      <td>0.0</td>\n",
              "      <td>satisfied</td>\n",
              "    </tr>\n",
              "    <tr>\n",
              "      <th>4</th>\n",
              "      <td>Male</td>\n",
              "      <td>Loyal Customer</td>\n",
              "      <td>50</td>\n",
              "      <td>Business travel</td>\n",
              "      <td>Business</td>\n",
              "      <td>1905</td>\n",
              "      <td>2</td>\n",
              "      <td>2</td>\n",
              "      <td>2</td>\n",
              "      <td>2</td>\n",
              "      <td>4</td>\n",
              "      <td>4</td>\n",
              "      <td>5</td>\n",
              "      <td>5</td>\n",
              "      <td>5</td>\n",
              "      <td>5</td>\n",
              "      <td>5</td>\n",
              "      <td>3</td>\n",
              "      <td>5</td>\n",
              "      <td>4</td>\n",
              "      <td>0</td>\n",
              "      <td>0.0</td>\n",
              "      <td>satisfied</td>\n",
              "    </tr>\n",
              "    <tr>\n",
              "      <th>5</th>\n",
              "      <td>Female</td>\n",
              "      <td>Loyal Customer</td>\n",
              "      <td>49</td>\n",
              "      <td>Business travel</td>\n",
              "      <td>Business</td>\n",
              "      <td>3470</td>\n",
              "      <td>3</td>\n",
              "      <td>3</td>\n",
              "      <td>3</td>\n",
              "      <td>3</td>\n",
              "      <td>4</td>\n",
              "      <td>5</td>\n",
              "      <td>4</td>\n",
              "      <td>3</td>\n",
              "      <td>3</td>\n",
              "      <td>4</td>\n",
              "      <td>3</td>\n",
              "      <td>3</td>\n",
              "      <td>3</td>\n",
              "      <td>5</td>\n",
              "      <td>0</td>\n",
              "      <td>1.0</td>\n",
              "      <td>satisfied</td>\n",
              "    </tr>\n",
              "  </tbody>\n",
              "</table>\n",
              "</div>"
            ],
            "text/plain": [
              "    Gender  ...             satisfaction\n",
              "id          ...                         \n",
              "1     Male  ...  neutral or dissatisfied\n",
              "2   Female  ...                satisfied\n",
              "3     Male  ...                satisfied\n",
              "4     Male  ...                satisfied\n",
              "5   Female  ...                satisfied\n",
              "\n",
              "[5 rows x 23 columns]"
            ]
          },
          "metadata": {},
          "execution_count": 90
        }
      ],
      "metadata": {
        "colab": {
          "base_uri": "https://localhost:8080/",
          "height": 391
        },
        "id": "A09-kIMVTHbL",
        "outputId": "1bc608a4-f386-496f-b83d-028e3a4562cb"
      }
    },
    {
      "cell_type": "markdown",
      "source": [
        "**Dimensi matriks untuk data train dan informasi tentang data**"
      ],
      "metadata": {
        "id": "OMdfXtDUWawy"
      }
    },
    {
      "cell_type": "code",
      "execution_count": 91,
      "source": [
        "data.shape"
      ],
      "outputs": [
        {
          "output_type": "execute_result",
          "data": {
            "text/plain": [
              "(103904, 23)"
            ]
          },
          "metadata": {},
          "execution_count": 91
        }
      ],
      "metadata": {
        "colab": {
          "base_uri": "https://localhost:8080/"
        },
        "id": "AwSiA78DUS_6",
        "outputId": "983f9498-609e-49e7-e021-174348657005"
      }
    },
    {
      "cell_type": "code",
      "execution_count": 92,
      "source": [
        "data.info()"
      ],
      "outputs": [
        {
          "output_type": "stream",
          "name": "stdout",
          "text": [
            "<class 'pandas.core.frame.DataFrame'>\n",
            "Int64Index: 103904 entries, 1 to 129880\n",
            "Data columns (total 23 columns):\n",
            " #   Column                             Non-Null Count   Dtype  \n",
            "---  ------                             --------------   -----  \n",
            " 0   Gender                             103904 non-null  object \n",
            " 1   Customer Type                      103904 non-null  object \n",
            " 2   Age                                103904 non-null  int64  \n",
            " 3   Type of Travel                     103904 non-null  object \n",
            " 4   Class                              103904 non-null  object \n",
            " 5   Flight Distance                    103904 non-null  int64  \n",
            " 6   Inflight wifi service              103904 non-null  int64  \n",
            " 7   Departure/Arrival time convenient  103904 non-null  int64  \n",
            " 8   Ease of Online booking             103904 non-null  int64  \n",
            " 9   Gate location                      103904 non-null  int64  \n",
            " 10  Food and drink                     103904 non-null  int64  \n",
            " 11  Online boarding                    103904 non-null  int64  \n",
            " 12  Seat comfort                       103904 non-null  int64  \n",
            " 13  Inflight entertainment             103904 non-null  int64  \n",
            " 14  On-board service                   103904 non-null  int64  \n",
            " 15  Leg room service                   103904 non-null  int64  \n",
            " 16  Baggage handling                   103904 non-null  int64  \n",
            " 17  Checkin service                    103904 non-null  int64  \n",
            " 18  Inflight service                   103904 non-null  int64  \n",
            " 19  Cleanliness                        103904 non-null  int64  \n",
            " 20  Departure Delay in Minutes         103904 non-null  int64  \n",
            " 21  Arrival Delay in Minutes           103594 non-null  float64\n",
            " 22  satisfaction                       103904 non-null  object \n",
            "dtypes: float64(1), int64(17), object(5)\n",
            "memory usage: 19.0+ MB\n"
          ]
        }
      ],
      "metadata": {
        "colab": {
          "base_uri": "https://localhost:8080/"
        },
        "id": "cxGPrvZFUbus",
        "outputId": "7f9e36fe-8e00-46d5-e947-62228cf76a3e"
      }
    },
    {
      "cell_type": "code",
      "execution_count": 93,
      "source": [
        "data.nunique().sort_values(ascending=False)"
      ],
      "outputs": [
        {
          "output_type": "execute_result",
          "data": {
            "text/plain": [
              "Flight Distance                      3802\n",
              "Arrival Delay in Minutes              455\n",
              "Departure Delay in Minutes            446\n",
              "Age                                    75\n",
              "Online boarding                         6\n",
              "Inflight wifi service                   6\n",
              "Departure/Arrival time convenient       6\n",
              "Ease of Online booking                  6\n",
              "Gate location                           6\n",
              "Food and drink                          6\n",
              "Seat comfort                            6\n",
              "Inflight entertainment                  6\n",
              "On-board service                        6\n",
              "Leg room service                        6\n",
              "Checkin service                         6\n",
              "Inflight service                        6\n",
              "Cleanliness                             6\n",
              "Baggage handling                        5\n",
              "Class                                   3\n",
              "Customer Type                           2\n",
              "satisfaction                            2\n",
              "Type of Travel                          2\n",
              "Gender                                  2\n",
              "dtype: int64"
            ]
          },
          "metadata": {},
          "execution_count": 93
        }
      ],
      "metadata": {
        "colab": {
          "base_uri": "https://localhost:8080/"
        },
        "id": "BwkcHuDTUhRT",
        "outputId": "a01f68f9-88be-4a94-ad99-10c57ea6fd98"
      }
    },
    {
      "cell_type": "markdown",
      "source": [
        "Terdapat 23 Features dari data dan jumlah nilai unik dari setiap features"
      ],
      "metadata": {
        "id": "6B2becEWWniQ"
      }
    },
    {
      "cell_type": "markdown",
      "source": [
        "**Cek jumlah data yang hilang**"
      ],
      "metadata": {
        "id": "hyDjG00lXM08"
      }
    },
    {
      "cell_type": "code",
      "execution_count": 94,
      "source": [
        "data.isnull().sum()"
      ],
      "outputs": [
        {
          "output_type": "execute_result",
          "data": {
            "text/plain": [
              "Gender                                 0\n",
              "Customer Type                          0\n",
              "Age                                    0\n",
              "Type of Travel                         0\n",
              "Class                                  0\n",
              "Flight Distance                        0\n",
              "Inflight wifi service                  0\n",
              "Departure/Arrival time convenient      0\n",
              "Ease of Online booking                 0\n",
              "Gate location                          0\n",
              "Food and drink                         0\n",
              "Online boarding                        0\n",
              "Seat comfort                           0\n",
              "Inflight entertainment                 0\n",
              "On-board service                       0\n",
              "Leg room service                       0\n",
              "Baggage handling                       0\n",
              "Checkin service                        0\n",
              "Inflight service                       0\n",
              "Cleanliness                            0\n",
              "Departure Delay in Minutes             0\n",
              "Arrival Delay in Minutes             310\n",
              "satisfaction                           0\n",
              "dtype: int64"
            ]
          },
          "metadata": {},
          "execution_count": 94
        }
      ],
      "metadata": {
        "colab": {
          "base_uri": "https://localhost:8080/"
        },
        "id": "L8REvfu_U7HP",
        "outputId": "c23c0f65-417f-4fec-82bc-64092e48c6b1"
      }
    },
    {
      "cell_type": "markdown",
      "source": [
        "Terdapat 310 data yang hilang pada baris \"Arrival Delay in Minutes\" karena data yang dimiliki lebih dari 100.000 maka baris data yang hilang akan di hapus/drop (tidak akan berdampak banyak)."
      ],
      "metadata": {
        "id": "PXHOYMS6XQlB"
      }
    },
    {
      "cell_type": "markdown",
      "source": [
        "**Ukuran dari data yang akan digunakan**"
      ],
      "metadata": {
        "id": "4Iz02DCyXpEM"
      }
    },
    {
      "cell_type": "code",
      "execution_count": 95,
      "source": [
        "data = data.dropna().copy()\r\n",
        "data.shape"
      ],
      "outputs": [
        {
          "output_type": "execute_result",
          "data": {
            "text/plain": [
              "(103594, 23)"
            ]
          },
          "metadata": {},
          "execution_count": 95
        }
      ],
      "metadata": {
        "colab": {
          "base_uri": "https://localhost:8080/"
        },
        "id": "ei8zNKVmVYmM",
        "outputId": "1e56fcaa-3c39-4fbf-dcd0-14467816b1da"
      }
    },
    {
      "cell_type": "markdown",
      "source": [
        "**Cek jumlah data yang duplicate**"
      ],
      "metadata": {
        "id": "ezhQcTlDX23-"
      }
    },
    {
      "cell_type": "code",
      "execution_count": 96,
      "source": [
        "data.duplicated().any()"
      ],
      "outputs": [
        {
          "output_type": "execute_result",
          "data": {
            "text/plain": [
              "False"
            ]
          },
          "metadata": {},
          "execution_count": 96
        }
      ],
      "metadata": {
        "colab": {
          "base_uri": "https://localhost:8080/"
        },
        "id": "pBdeEjFyVtLr",
        "outputId": "5649158b-d24d-4e4f-d856-1b80c74fd7a5"
      }
    },
    {
      "cell_type": "markdown",
      "source": [
        "Tidak ada data yang terduplikat."
      ],
      "metadata": {
        "id": "PvvrfjywYJAP"
      }
    },
    {
      "cell_type": "markdown",
      "source": [
        "**Cek jumlah outliers**"
      ],
      "metadata": {
        "id": "4Y9ZtC6-ZIaU"
      }
    },
    {
      "cell_type": "code",
      "execution_count": 97,
      "source": [
        "data.describe()"
      ],
      "outputs": [
        {
          "output_type": "execute_result",
          "data": {
            "text/html": [
              "<div>\n",
              "<style scoped>\n",
              "    .dataframe tbody tr th:only-of-type {\n",
              "        vertical-align: middle;\n",
              "    }\n",
              "\n",
              "    .dataframe tbody tr th {\n",
              "        vertical-align: top;\n",
              "    }\n",
              "\n",
              "    .dataframe thead th {\n",
              "        text-align: right;\n",
              "    }\n",
              "</style>\n",
              "<table border=\"1\" class=\"dataframe\">\n",
              "  <thead>\n",
              "    <tr style=\"text-align: right;\">\n",
              "      <th></th>\n",
              "      <th>Age</th>\n",
              "      <th>Flight Distance</th>\n",
              "      <th>Inflight wifi service</th>\n",
              "      <th>Departure/Arrival time convenient</th>\n",
              "      <th>Ease of Online booking</th>\n",
              "      <th>Gate location</th>\n",
              "      <th>Food and drink</th>\n",
              "      <th>Online boarding</th>\n",
              "      <th>Seat comfort</th>\n",
              "      <th>Inflight entertainment</th>\n",
              "      <th>On-board service</th>\n",
              "      <th>Leg room service</th>\n",
              "      <th>Baggage handling</th>\n",
              "      <th>Checkin service</th>\n",
              "      <th>Inflight service</th>\n",
              "      <th>Cleanliness</th>\n",
              "      <th>Departure Delay in Minutes</th>\n",
              "      <th>Arrival Delay in Minutes</th>\n",
              "    </tr>\n",
              "  </thead>\n",
              "  <tbody>\n",
              "    <tr>\n",
              "      <th>count</th>\n",
              "      <td>103594.000000</td>\n",
              "      <td>103594.000000</td>\n",
              "      <td>103594.000000</td>\n",
              "      <td>103594.000000</td>\n",
              "      <td>103594.000000</td>\n",
              "      <td>103594.000000</td>\n",
              "      <td>103594.000000</td>\n",
              "      <td>103594.000000</td>\n",
              "      <td>103594.000000</td>\n",
              "      <td>103594.000000</td>\n",
              "      <td>103594.000000</td>\n",
              "      <td>103594.000000</td>\n",
              "      <td>103594.000000</td>\n",
              "      <td>103594.000000</td>\n",
              "      <td>103594.000000</td>\n",
              "      <td>103594.000000</td>\n",
              "      <td>103594.000000</td>\n",
              "      <td>103594.000000</td>\n",
              "    </tr>\n",
              "    <tr>\n",
              "      <th>mean</th>\n",
              "      <td>39.380466</td>\n",
              "      <td>1189.325202</td>\n",
              "      <td>2.729753</td>\n",
              "      <td>3.060081</td>\n",
              "      <td>2.756984</td>\n",
              "      <td>2.977026</td>\n",
              "      <td>3.202126</td>\n",
              "      <td>3.250497</td>\n",
              "      <td>3.439765</td>\n",
              "      <td>3.358341</td>\n",
              "      <td>3.382609</td>\n",
              "      <td>3.351401</td>\n",
              "      <td>3.631687</td>\n",
              "      <td>3.304323</td>\n",
              "      <td>3.640761</td>\n",
              "      <td>3.286397</td>\n",
              "      <td>14.747939</td>\n",
              "      <td>15.178678</td>\n",
              "    </tr>\n",
              "    <tr>\n",
              "      <th>std</th>\n",
              "      <td>15.113125</td>\n",
              "      <td>997.297235</td>\n",
              "      <td>1.327866</td>\n",
              "      <td>1.525233</td>\n",
              "      <td>1.398934</td>\n",
              "      <td>1.277723</td>\n",
              "      <td>1.329401</td>\n",
              "      <td>1.349433</td>\n",
              "      <td>1.318896</td>\n",
              "      <td>1.333030</td>\n",
              "      <td>1.288284</td>\n",
              "      <td>1.315409</td>\n",
              "      <td>1.181051</td>\n",
              "      <td>1.265396</td>\n",
              "      <td>1.175603</td>\n",
              "      <td>1.312194</td>\n",
              "      <td>38.116737</td>\n",
              "      <td>38.698682</td>\n",
              "    </tr>\n",
              "    <tr>\n",
              "      <th>min</th>\n",
              "      <td>7.000000</td>\n",
              "      <td>31.000000</td>\n",
              "      <td>0.000000</td>\n",
              "      <td>0.000000</td>\n",
              "      <td>0.000000</td>\n",
              "      <td>0.000000</td>\n",
              "      <td>0.000000</td>\n",
              "      <td>0.000000</td>\n",
              "      <td>0.000000</td>\n",
              "      <td>0.000000</td>\n",
              "      <td>0.000000</td>\n",
              "      <td>0.000000</td>\n",
              "      <td>1.000000</td>\n",
              "      <td>0.000000</td>\n",
              "      <td>0.000000</td>\n",
              "      <td>0.000000</td>\n",
              "      <td>0.000000</td>\n",
              "      <td>0.000000</td>\n",
              "    </tr>\n",
              "    <tr>\n",
              "      <th>25%</th>\n",
              "      <td>27.000000</td>\n",
              "      <td>414.000000</td>\n",
              "      <td>2.000000</td>\n",
              "      <td>2.000000</td>\n",
              "      <td>2.000000</td>\n",
              "      <td>2.000000</td>\n",
              "      <td>2.000000</td>\n",
              "      <td>2.000000</td>\n",
              "      <td>2.000000</td>\n",
              "      <td>2.000000</td>\n",
              "      <td>2.000000</td>\n",
              "      <td>2.000000</td>\n",
              "      <td>3.000000</td>\n",
              "      <td>3.000000</td>\n",
              "      <td>3.000000</td>\n",
              "      <td>2.000000</td>\n",
              "      <td>0.000000</td>\n",
              "      <td>0.000000</td>\n",
              "    </tr>\n",
              "    <tr>\n",
              "      <th>50%</th>\n",
              "      <td>40.000000</td>\n",
              "      <td>842.000000</td>\n",
              "      <td>3.000000</td>\n",
              "      <td>3.000000</td>\n",
              "      <td>3.000000</td>\n",
              "      <td>3.000000</td>\n",
              "      <td>3.000000</td>\n",
              "      <td>3.000000</td>\n",
              "      <td>4.000000</td>\n",
              "      <td>4.000000</td>\n",
              "      <td>4.000000</td>\n",
              "      <td>4.000000</td>\n",
              "      <td>4.000000</td>\n",
              "      <td>3.000000</td>\n",
              "      <td>4.000000</td>\n",
              "      <td>3.000000</td>\n",
              "      <td>0.000000</td>\n",
              "      <td>0.000000</td>\n",
              "    </tr>\n",
              "    <tr>\n",
              "      <th>75%</th>\n",
              "      <td>51.000000</td>\n",
              "      <td>1743.000000</td>\n",
              "      <td>4.000000</td>\n",
              "      <td>4.000000</td>\n",
              "      <td>4.000000</td>\n",
              "      <td>4.000000</td>\n",
              "      <td>4.000000</td>\n",
              "      <td>4.000000</td>\n",
              "      <td>5.000000</td>\n",
              "      <td>4.000000</td>\n",
              "      <td>4.000000</td>\n",
              "      <td>4.000000</td>\n",
              "      <td>5.000000</td>\n",
              "      <td>4.000000</td>\n",
              "      <td>5.000000</td>\n",
              "      <td>4.000000</td>\n",
              "      <td>12.000000</td>\n",
              "      <td>13.000000</td>\n",
              "    </tr>\n",
              "    <tr>\n",
              "      <th>max</th>\n",
              "      <td>85.000000</td>\n",
              "      <td>4983.000000</td>\n",
              "      <td>5.000000</td>\n",
              "      <td>5.000000</td>\n",
              "      <td>5.000000</td>\n",
              "      <td>5.000000</td>\n",
              "      <td>5.000000</td>\n",
              "      <td>5.000000</td>\n",
              "      <td>5.000000</td>\n",
              "      <td>5.000000</td>\n",
              "      <td>5.000000</td>\n",
              "      <td>5.000000</td>\n",
              "      <td>5.000000</td>\n",
              "      <td>5.000000</td>\n",
              "      <td>5.000000</td>\n",
              "      <td>5.000000</td>\n",
              "      <td>1592.000000</td>\n",
              "      <td>1584.000000</td>\n",
              "    </tr>\n",
              "  </tbody>\n",
              "</table>\n",
              "</div>"
            ],
            "text/plain": [
              "                 Age  ...  Arrival Delay in Minutes\n",
              "count  103594.000000  ...             103594.000000\n",
              "mean       39.380466  ...                 15.178678\n",
              "std        15.113125  ...                 38.698682\n",
              "min         7.000000  ...                  0.000000\n",
              "25%        27.000000  ...                  0.000000\n",
              "50%        40.000000  ...                  0.000000\n",
              "75%        51.000000  ...                 13.000000\n",
              "max        85.000000  ...               1584.000000\n",
              "\n",
              "[8 rows x 18 columns]"
            ]
          },
          "metadata": {},
          "execution_count": 97
        }
      ],
      "metadata": {
        "colab": {
          "base_uri": "https://localhost:8080/",
          "height": 351
        },
        "id": "lTx7ovJeYHGW",
        "outputId": "db3e4254-9b21-4e60-9eb7-13c65e6dbfcd"
      }
    },
    {
      "cell_type": "markdown",
      "source": [
        "Dari deskripsi tabel diatas terlihat pada **Departure Delay in Minutes** dan **Arrival Delay in Minutes** memiliki nilai max yang terpaut sangat jauh. Sehigga dicurigai adanya outliers pada data tersebut"
      ],
      "metadata": {
        "id": "Y7ttQ94fZQg_"
      }
    },
    {
      "cell_type": "code",
      "execution_count": 98,
      "source": [
        "sns.boxplot(x=data['Departure Delay in Minutes'])"
      ],
      "outputs": [
        {
          "output_type": "execute_result",
          "data": {
            "text/plain": [
              "<matplotlib.axes._subplots.AxesSubplot at 0x7f7d7196e2d0>"
            ]
          },
          "metadata": {},
          "execution_count": 98
        },
        {
          "output_type": "display_data",
          "data": {
            "image/png": "[encoded data removed]",
            "text/plain": [
              "<Figure size 432x288 with 1 Axes>"
            ]
          },
          "metadata": {
            "needs_background": "light"
          }
        }
      ],
      "metadata": {
        "colab": {
          "base_uri": "https://localhost:8080/",
          "height": 296
        },
        "id": "HI6CnCqcZOlu",
        "outputId": "16d2c208-194e-4d3e-c21e-445697a69fba"
      }
    },
    {
      "cell_type": "code",
      "execution_count": 99,
      "source": [
        "sns.boxplot(x=data['Arrival Delay in Minutes'])"
      ],
      "outputs": [
        {
          "output_type": "execute_result",
          "data": {
            "text/plain": [
              "<matplotlib.axes._subplots.AxesSubplot at 0x7f7d71902150>"
            ]
          },
          "metadata": {},
          "execution_count": 99
        },
        {
          "output_type": "display_data",
          "data": {
            "image/png": "[encoded data removed]",
            "text/plain": [
              "<Figure size 432x288 with 1 Axes>"
            ]
          },
          "metadata": {
            "needs_background": "light"
          }
        }
      ],
      "metadata": {
        "colab": {
          "base_uri": "https://localhost:8080/",
          "height": 296
        },
        "id": "Dhmzn7t5aA4g",
        "outputId": "44c7ad21-ef63-4853-c8e1-d2eb40575e58"
      }
    },
    {
      "cell_type": "markdown",
      "source": [
        "Dari visualisasi boxplot juga terlihat bahwa ada outliers pada kedua data tersebut."
      ],
      "metadata": {
        "id": "kdw_n8ySaMTD"
      }
    },
    {
      "cell_type": "code",
      "execution_count": 100,
      "source": [
        "data.loc[data['Departure Delay in Minutes'] > 1200]\r\n",
        "data.loc[data['Arrival Delay in Minutes'] > 1200]"
      ],
      "outputs": [
        {
          "output_type": "execute_result",
          "data": {
            "text/html": [
              "<div>\n",
              "<style scoped>\n",
              "    .dataframe tbody tr th:only-of-type {\n",
              "        vertical-align: middle;\n",
              "    }\n",
              "\n",
              "    .dataframe tbody tr th {\n",
              "        vertical-align: top;\n",
              "    }\n",
              "\n",
              "    .dataframe thead th {\n",
              "        text-align: right;\n",
              "    }\n",
              "</style>\n",
              "<table border=\"1\" class=\"dataframe\">\n",
              "  <thead>\n",
              "    <tr style=\"text-align: right;\">\n",
              "      <th></th>\n",
              "      <th>Gender</th>\n",
              "      <th>Customer Type</th>\n",
              "      <th>Age</th>\n",
              "      <th>Type of Travel</th>\n",
              "      <th>Class</th>\n",
              "      <th>Flight Distance</th>\n",
              "      <th>Inflight wifi service</th>\n",
              "      <th>Departure/Arrival time convenient</th>\n",
              "      <th>Ease of Online booking</th>\n",
              "      <th>Gate location</th>\n",
              "      <th>Food and drink</th>\n",
              "      <th>Online boarding</th>\n",
              "      <th>Seat comfort</th>\n",
              "      <th>Inflight entertainment</th>\n",
              "      <th>On-board service</th>\n",
              "      <th>Leg room service</th>\n",
              "      <th>Baggage handling</th>\n",
              "      <th>Checkin service</th>\n",
              "      <th>Inflight service</th>\n",
              "      <th>Cleanliness</th>\n",
              "      <th>Departure Delay in Minutes</th>\n",
              "      <th>Arrival Delay in Minutes</th>\n",
              "      <th>satisfaction</th>\n",
              "    </tr>\n",
              "    <tr>\n",
              "      <th>id</th>\n",
              "      <th></th>\n",
              "      <th></th>\n",
              "      <th></th>\n",
              "      <th></th>\n",
              "      <th></th>\n",
              "      <th></th>\n",
              "      <th></th>\n",
              "      <th></th>\n",
              "      <th></th>\n",
              "      <th></th>\n",
              "      <th></th>\n",
              "      <th></th>\n",
              "      <th></th>\n",
              "      <th></th>\n",
              "      <th></th>\n",
              "      <th></th>\n",
              "      <th></th>\n",
              "      <th></th>\n",
              "      <th></th>\n",
              "      <th></th>\n",
              "      <th></th>\n",
              "      <th></th>\n",
              "      <th></th>\n",
              "    </tr>\n",
              "  </thead>\n",
              "  <tbody>\n",
              "    <tr>\n",
              "      <th>69661</th>\n",
              "      <td>Male</td>\n",
              "      <td>Loyal Customer</td>\n",
              "      <td>32</td>\n",
              "      <td>Business travel</td>\n",
              "      <td>Business</td>\n",
              "      <td>2916</td>\n",
              "      <td>2</td>\n",
              "      <td>2</td>\n",
              "      <td>2</td>\n",
              "      <td>2</td>\n",
              "      <td>5</td>\n",
              "      <td>5</td>\n",
              "      <td>5</td>\n",
              "      <td>3</td>\n",
              "      <td>4</td>\n",
              "      <td>5</td>\n",
              "      <td>4</td>\n",
              "      <td>5</td>\n",
              "      <td>3</td>\n",
              "      <td>5</td>\n",
              "      <td>1305</td>\n",
              "      <td>1280.0</td>\n",
              "      <td>satisfied</td>\n",
              "    </tr>\n",
              "    <tr>\n",
              "      <th>73471</th>\n",
              "      <td>Female</td>\n",
              "      <td>Loyal Customer</td>\n",
              "      <td>47</td>\n",
              "      <td>Personal Travel</td>\n",
              "      <td>Eco</td>\n",
              "      <td>1120</td>\n",
              "      <td>2</td>\n",
              "      <td>2</td>\n",
              "      <td>2</td>\n",
              "      <td>3</td>\n",
              "      <td>2</td>\n",
              "      <td>4</td>\n",
              "      <td>2</td>\n",
              "      <td>2</td>\n",
              "      <td>4</td>\n",
              "      <td>4</td>\n",
              "      <td>4</td>\n",
              "      <td>2</td>\n",
              "      <td>3</td>\n",
              "      <td>2</td>\n",
              "      <td>1592</td>\n",
              "      <td>1584.0</td>\n",
              "      <td>neutral or dissatisfied</td>\n",
              "    </tr>\n",
              "  </tbody>\n",
              "</table>\n",
              "</div>"
            ],
            "text/plain": [
              "       Gender  ...             satisfaction\n",
              "id             ...                         \n",
              "69661    Male  ...                satisfied\n",
              "73471  Female  ...  neutral or dissatisfied\n",
              "\n",
              "[2 rows x 23 columns]"
            ]
          },
          "metadata": {},
          "execution_count": 100
        }
      ],
      "metadata": {
        "colab": {
          "base_uri": "https://localhost:8080/",
          "height": 247
        },
        "id": "RBCHmdHCacrp",
        "outputId": "d4b08bf6-ff4f-47b4-92ad-9bc572f77013"
      }
    },
    {
      "cell_type": "markdown",
      "source": [
        "Ada 2 outliers dari data tersebut, agar pada proses selanjutnya data ini tidak mengganggu proses Machine Learning, maka data ini akan dihapus."
      ],
      "metadata": {
        "id": "yGcpB1i6azF-"
      }
    },
    {
      "cell_type": "code",
      "execution_count": 101,
      "source": [
        "outliers = data[data['Arrival Delay in Minutes'] > 1200].index\r\n",
        "data.drop(outliers, inplace=True)\r\n",
        "data.shape"
      ],
      "outputs": [
        {
          "output_type": "execute_result",
          "data": {
            "text/plain": [
              "(103592, 23)"
            ]
          },
          "metadata": {},
          "execution_count": 101
        }
      ],
      "metadata": {
        "colab": {
          "base_uri": "https://localhost:8080/"
        },
        "id": "U96iZXc7auwU",
        "outputId": "deb66fa5-6839-4cf1-85fe-81606d52ab46"
      }
    },
    {
      "cell_type": "markdown",
      "source": [
        "**Cek tipe data**"
      ],
      "metadata": {
        "id": "SZ54IQrQcCH6"
      }
    },
    {
      "cell_type": "code",
      "execution_count": 102,
      "source": [
        "data['satisfaction'].value_counts()\r\n",
        "data['satisfaction'] = pd.get_dummies(data['satisfaction'])\r\n",
        "data['satisfaction']"
      ],
      "outputs": [
        {
          "output_type": "execute_result",
          "data": {
            "text/plain": [
              "id\n",
              "1         1\n",
              "2         0\n",
              "3         0\n",
              "4         0\n",
              "5         0\n",
              "         ..\n",
              "129874    1\n",
              "129875    1\n",
              "129878    1\n",
              "129879    0\n",
              "129880    1\n",
              "Name: satisfaction, Length: 103592, dtype: uint8"
            ]
          },
          "metadata": {},
          "execution_count": 102
        }
      ],
      "metadata": {
        "colab": {
          "base_uri": "https://localhost:8080/"
        },
        "id": "mEM_fsHAbuHz",
        "outputId": "514f91fa-174f-4452-ac8d-d866b312bc84"
      }
    },
    {
      "cell_type": "markdown",
      "source": [
        "Pada data **Satisfaction** berbentuk categorical, sehingga perlu dirubah menjadi index 0 dan 1 agar memudahkan proses Machine Learning\n",
        "\n",
        "data 0 = neutral or dissatisfied\n",
        "\n",
        "data 1 = satisfied"
      ],
      "metadata": {
        "id": "yGb94mhcdPNv"
      }
    },
    {
      "cell_type": "code",
      "execution_count": 103,
      "source": [
        "data.dtypes"
      ],
      "outputs": [
        {
          "output_type": "execute_result",
          "data": {
            "text/plain": [
              "Gender                                object\n",
              "Customer Type                         object\n",
              "Age                                    int64\n",
              "Type of Travel                        object\n",
              "Class                                 object\n",
              "Flight Distance                        int64\n",
              "Inflight wifi service                  int64\n",
              "Departure/Arrival time convenient      int64\n",
              "Ease of Online booking                 int64\n",
              "Gate location                          int64\n",
              "Food and drink                         int64\n",
              "Online boarding                        int64\n",
              "Seat comfort                           int64\n",
              "Inflight entertainment                 int64\n",
              "On-board service                       int64\n",
              "Leg room service                       int64\n",
              "Baggage handling                       int64\n",
              "Checkin service                        int64\n",
              "Inflight service                       int64\n",
              "Cleanliness                            int64\n",
              "Departure Delay in Minutes             int64\n",
              "Arrival Delay in Minutes             float64\n",
              "satisfaction                           uint8\n",
              "dtype: object"
            ]
          },
          "metadata": {},
          "execution_count": 103
        }
      ],
      "metadata": {
        "colab": {
          "base_uri": "https://localhost:8080/"
        },
        "id": "mpzdtBcvdG8W",
        "outputId": "bfd764bb-2670-4833-cd38-b5e9c77fac14"
      }
    },
    {
      "cell_type": "markdown",
      "source": [
        "Pada data **Gender**, **Customer Type**, **Type of Travel**, dan **Class** juga merupakan data categorical (*dtype = object*). Maka data tersebut juga akan dirubah menjadi index menggunakan fungsi *get_dummies* dari **pandas**."
      ],
      "metadata": {
        "id": "pFBmMxaheJgP"
      }
    },
    {
      "cell_type": "code",
      "execution_count": 104,
      "source": [
        "categorical = ['Gender', 'Customer Type', 'Type of Travel', 'Class']\r\n",
        "for i in categorical:\r\n",
        "  data[i] = pd.get_dummies(data[i])\r\n",
        "\r\n",
        "data.dtypes"
      ],
      "outputs": [
        {
          "output_type": "execute_result",
          "data": {
            "text/plain": [
              "Gender                                 uint8\n",
              "Customer Type                          uint8\n",
              "Age                                    int64\n",
              "Type of Travel                         uint8\n",
              "Class                                  uint8\n",
              "Flight Distance                        int64\n",
              "Inflight wifi service                  int64\n",
              "Departure/Arrival time convenient      int64\n",
              "Ease of Online booking                 int64\n",
              "Gate location                          int64\n",
              "Food and drink                         int64\n",
              "Online boarding                        int64\n",
              "Seat comfort                           int64\n",
              "Inflight entertainment                 int64\n",
              "On-board service                       int64\n",
              "Leg room service                       int64\n",
              "Baggage handling                       int64\n",
              "Checkin service                        int64\n",
              "Inflight service                       int64\n",
              "Cleanliness                            int64\n",
              "Departure Delay in Minutes             int64\n",
              "Arrival Delay in Minutes             float64\n",
              "satisfaction                           uint8\n",
              "dtype: object"
            ]
          },
          "metadata": {},
          "execution_count": 104
        }
      ],
      "metadata": {
        "colab": {
          "base_uri": "https://localhost:8080/"
        },
        "id": "j9DgT0XceGwC",
        "outputId": "5277c14a-4abc-47ab-ab61-39e01ba70fc9"
      }
    },
    {
      "cell_type": "markdown",
      "source": [
        "# **Data Visualization**"
      ],
      "metadata": {
        "id": "wvhf0J9MmLNu"
      }
    },
    {
      "cell_type": "markdown",
      "source": [
        "Dataset yang sudah dibersihkan akan divisualisasikan untuk melihat insight yang bisa didapatkan."
      ],
      "metadata": {
        "id": "Vt2Biyhjqes3"
      }
    },
    {
      "cell_type": "markdown",
      "source": [
        "**Melihat korelasi antar instances**"
      ],
      "metadata": {
        "id": "sigleXQBqnYT"
      }
    },
    {
      "cell_type": "code",
      "execution_count": 105,
      "source": [
        "correlation = data.corr()\r\n",
        "np.fill_diagonal(correlation.values, 0)\r\n",
        "correlation.replace(0, np.nan, inplace=True)\r\n",
        "correlation"
      ],
      "outputs": [
        {
          "output_type": "execute_result",
          "data": {
            "text/html": [
              "<div>\n",
              "<style scoped>\n",
              "    .dataframe tbody tr th:only-of-type {\n",
              "        vertical-align: middle;\n",
              "    }\n",
              "\n",
              "    .dataframe tbody tr th {\n",
              "        vertical-align: top;\n",
              "    }\n",
              "\n",
              "    .dataframe thead th {\n",
              "        text-align: right;\n",
              "    }\n",
              "</style>\n",
              "<table border=\"1\" class=\"dataframe\">\n",
              "  <thead>\n",
              "    <tr style=\"text-align: right;\">\n",
              "      <th></th>\n",
              "      <th>Gender</th>\n",
              "      <th>Customer Type</th>\n",
              "      <th>Age</th>\n",
              "      <th>Type of Travel</th>\n",
              "      <th>Class</th>\n",
              "      <th>Flight Distance</th>\n",
              "      <th>Inflight wifi service</th>\n",
              "      <th>Departure/Arrival time convenient</th>\n",
              "      <th>Ease of Online booking</th>\n",
              "      <th>Gate location</th>\n",
              "      <th>Food and drink</th>\n",
              "      <th>Online boarding</th>\n",
              "      <th>Seat comfort</th>\n",
              "      <th>Inflight entertainment</th>\n",
              "      <th>On-board service</th>\n",
              "      <th>Leg room service</th>\n",
              "      <th>Baggage handling</th>\n",
              "      <th>Checkin service</th>\n",
              "      <th>Inflight service</th>\n",
              "      <th>Cleanliness</th>\n",
              "      <th>Departure Delay in Minutes</th>\n",
              "      <th>Arrival Delay in Minutes</th>\n",
              "      <th>satisfaction</th>\n",
              "    </tr>\n",
              "  </thead>\n",
              "  <tbody>\n",
              "    <tr>\n",
              "      <th>Gender</th>\n",
              "      <td>NaN</td>\n",
              "      <td>-0.031558</td>\n",
              "      <td>-0.008930</td>\n",
              "      <td>0.006829</td>\n",
              "      <td>-0.010455</td>\n",
              "      <td>-0.006062</td>\n",
              "      <td>-0.008964</td>\n",
              "      <td>-0.008847</td>\n",
              "      <td>-0.007166</td>\n",
              "      <td>-0.000221</td>\n",
              "      <td>-0.005686</td>\n",
              "      <td>0.042159</td>\n",
              "      <td>0.026666</td>\n",
              "      <td>-0.006064</td>\n",
              "      <td>-0.008019</td>\n",
              "      <td>-0.031835</td>\n",
              "      <td>-0.037333</td>\n",
              "      <td>-0.010415</td>\n",
              "      <td>-0.038937</td>\n",
              "      <td>-0.006417</td>\n",
              "      <td>-0.002632</td>\n",
              "      <td>-0.000467</td>\n",
              "      <td>0.012337</td>\n",
              "    </tr>\n",
              "    <tr>\n",
              "      <th>Customer Type</th>\n",
              "      <td>-0.031558</td>\n",
              "      <td>NaN</td>\n",
              "      <td>0.281822</td>\n",
              "      <td>-0.308269</td>\n",
              "      <td>0.085520</td>\n",
              "      <td>0.225359</td>\n",
              "      <td>0.007711</td>\n",
              "      <td>0.207015</td>\n",
              "      <td>0.019632</td>\n",
              "      <td>-0.006290</td>\n",
              "      <td>0.059553</td>\n",
              "      <td>0.189471</td>\n",
              "      <td>0.159723</td>\n",
              "      <td>0.110112</td>\n",
              "      <td>0.056369</td>\n",
              "      <td>0.047801</td>\n",
              "      <td>-0.024893</td>\n",
              "      <td>0.032064</td>\n",
              "      <td>-0.023051</td>\n",
              "      <td>0.083757</td>\n",
              "      <td>-0.004738</td>\n",
              "      <td>-0.005150</td>\n",
              "      <td>-0.187559</td>\n",
              "    </tr>\n",
              "    <tr>\n",
              "      <th>Age</th>\n",
              "      <td>-0.008930</td>\n",
              "      <td>0.281822</td>\n",
              "      <td>NaN</td>\n",
              "      <td>0.048604</td>\n",
              "      <td>0.139029</td>\n",
              "      <td>0.099848</td>\n",
              "      <td>0.017470</td>\n",
              "      <td>0.038038</td>\n",
              "      <td>0.024462</td>\n",
              "      <td>-0.001562</td>\n",
              "      <td>0.022931</td>\n",
              "      <td>0.208687</td>\n",
              "      <td>0.160315</td>\n",
              "      <td>0.076384</td>\n",
              "      <td>0.057123</td>\n",
              "      <td>0.040502</td>\n",
              "      <td>-0.047619</td>\n",
              "      <td>0.035015</td>\n",
              "      <td>-0.049900</td>\n",
              "      <td>0.053505</td>\n",
              "      <td>-0.010336</td>\n",
              "      <td>-0.012353</td>\n",
              "      <td>-0.137051</td>\n",
              "    </tr>\n",
              "    <tr>\n",
              "      <th>Type of Travel</th>\n",
              "      <td>0.006829</td>\n",
              "      <td>-0.308269</td>\n",
              "      <td>0.048604</td>\n",
              "      <td>NaN</td>\n",
              "      <td>0.552022</td>\n",
              "      <td>0.267638</td>\n",
              "      <td>0.104876</td>\n",
              "      <td>-0.259839</td>\n",
              "      <td>0.133396</td>\n",
              "      <td>0.030808</td>\n",
              "      <td>0.063104</td>\n",
              "      <td>0.224625</td>\n",
              "      <td>0.123974</td>\n",
              "      <td>0.147968</td>\n",
              "      <td>0.056473</td>\n",
              "      <td>0.138682</td>\n",
              "      <td>0.031358</td>\n",
              "      <td>-0.017067</td>\n",
              "      <td>0.022488</td>\n",
              "      <td>0.078747</td>\n",
              "      <td>0.006514</td>\n",
              "      <td>0.006136</td>\n",
              "      <td>-0.448985</td>\n",
              "    </tr>\n",
              "    <tr>\n",
              "      <th>Class</th>\n",
              "      <td>-0.010455</td>\n",
              "      <td>0.085520</td>\n",
              "      <td>0.139029</td>\n",
              "      <td>0.552022</td>\n",
              "      <td>NaN</td>\n",
              "      <td>0.467181</td>\n",
              "      <td>0.032777</td>\n",
              "      <td>-0.096812</td>\n",
              "      <td>0.107492</td>\n",
              "      <td>0.004515</td>\n",
              "      <td>0.086895</td>\n",
              "      <td>0.330491</td>\n",
              "      <td>0.232969</td>\n",
              "      <td>0.198940</td>\n",
              "      <td>0.220676</td>\n",
              "      <td>0.213399</td>\n",
              "      <td>0.171112</td>\n",
              "      <td>0.162364</td>\n",
              "      <td>0.165850</td>\n",
              "      <td>0.139341</td>\n",
              "      <td>-0.010460</td>\n",
              "      <td>-0.015029</td>\n",
              "      <td>-0.503934</td>\n",
              "    </tr>\n",
              "    <tr>\n",
              "      <th>Flight Distance</th>\n",
              "      <td>-0.006062</td>\n",
              "      <td>0.225359</td>\n",
              "      <td>0.099848</td>\n",
              "      <td>0.267638</td>\n",
              "      <td>0.467181</td>\n",
              "      <td>NaN</td>\n",
              "      <td>0.007059</td>\n",
              "      <td>-0.019898</td>\n",
              "      <td>0.065707</td>\n",
              "      <td>0.004745</td>\n",
              "      <td>0.056935</td>\n",
              "      <td>0.215174</td>\n",
              "      <td>0.157501</td>\n",
              "      <td>0.128651</td>\n",
              "      <td>0.109534</td>\n",
              "      <td>0.133822</td>\n",
              "      <td>0.063218</td>\n",
              "      <td>0.073203</td>\n",
              "      <td>0.057440</td>\n",
              "      <td>0.093101</td>\n",
              "      <td>0.001387</td>\n",
              "      <td>-0.002984</td>\n",
              "      <td>-0.298903</td>\n",
              "    </tr>\n",
              "    <tr>\n",
              "      <th>Inflight wifi service</th>\n",
              "      <td>-0.008964</td>\n",
              "      <td>0.007711</td>\n",
              "      <td>0.017470</td>\n",
              "      <td>0.104876</td>\n",
              "      <td>0.032777</td>\n",
              "      <td>0.007059</td>\n",
              "      <td>NaN</td>\n",
              "      <td>0.343753</td>\n",
              "      <td>0.715846</td>\n",
              "      <td>0.336125</td>\n",
              "      <td>0.134607</td>\n",
              "      <td>0.457018</td>\n",
              "      <td>0.122619</td>\n",
              "      <td>0.209508</td>\n",
              "      <td>0.121489</td>\n",
              "      <td>0.160496</td>\n",
              "      <td>0.121064</td>\n",
              "      <td>0.043181</td>\n",
              "      <td>0.110621</td>\n",
              "      <td>0.132656</td>\n",
              "      <td>-0.017292</td>\n",
              "      <td>-0.018956</td>\n",
              "      <td>-0.284168</td>\n",
              "    </tr>\n",
              "    <tr>\n",
              "      <th>Departure/Arrival time convenient</th>\n",
              "      <td>-0.008847</td>\n",
              "      <td>0.207015</td>\n",
              "      <td>0.038038</td>\n",
              "      <td>-0.259839</td>\n",
              "      <td>-0.096812</td>\n",
              "      <td>-0.019898</td>\n",
              "      <td>0.343753</td>\n",
              "      <td>NaN</td>\n",
              "      <td>0.437017</td>\n",
              "      <td>0.444599</td>\n",
              "      <td>0.005192</td>\n",
              "      <td>0.070003</td>\n",
              "      <td>0.011416</td>\n",
              "      <td>-0.004692</td>\n",
              "      <td>0.068611</td>\n",
              "      <td>0.012473</td>\n",
              "      <td>0.071905</td>\n",
              "      <td>0.093333</td>\n",
              "      <td>0.073220</td>\n",
              "      <td>0.014339</td>\n",
              "      <td>0.001314</td>\n",
              "      <td>-0.000378</td>\n",
              "      <td>0.051717</td>\n",
              "    </tr>\n",
              "    <tr>\n",
              "      <th>Ease of Online booking</th>\n",
              "      <td>-0.007166</td>\n",
              "      <td>0.019632</td>\n",
              "      <td>0.024462</td>\n",
              "      <td>0.133396</td>\n",
              "      <td>0.107492</td>\n",
              "      <td>0.065707</td>\n",
              "      <td>0.715846</td>\n",
              "      <td>0.437017</td>\n",
              "      <td>NaN</td>\n",
              "      <td>0.458744</td>\n",
              "      <td>0.031943</td>\n",
              "      <td>0.404108</td>\n",
              "      <td>0.030022</td>\n",
              "      <td>0.047178</td>\n",
              "      <td>0.038764</td>\n",
              "      <td>0.107442</td>\n",
              "      <td>0.038855</td>\n",
              "      <td>0.010959</td>\n",
              "      <td>0.035325</td>\n",
              "      <td>0.016194</td>\n",
              "      <td>-0.005982</td>\n",
              "      <td>-0.007703</td>\n",
              "      <td>-0.171511</td>\n",
              "    </tr>\n",
              "    <tr>\n",
              "      <th>Gate location</th>\n",
              "      <td>-0.000221</td>\n",
              "      <td>-0.006290</td>\n",
              "      <td>-0.001562</td>\n",
              "      <td>0.030808</td>\n",
              "      <td>0.004515</td>\n",
              "      <td>0.004745</td>\n",
              "      <td>0.336125</td>\n",
              "      <td>0.444599</td>\n",
              "      <td>0.458744</td>\n",
              "      <td>NaN</td>\n",
              "      <td>-0.001160</td>\n",
              "      <td>0.001461</td>\n",
              "      <td>0.003392</td>\n",
              "      <td>0.003562</td>\n",
              "      <td>-0.028529</td>\n",
              "      <td>-0.005859</td>\n",
              "      <td>0.002423</td>\n",
              "      <td>-0.035441</td>\n",
              "      <td>0.001738</td>\n",
              "      <td>-0.004005</td>\n",
              "      <td>0.005857</td>\n",
              "      <td>0.005449</td>\n",
              "      <td>-0.000458</td>\n",
              "    </tr>\n",
              "    <tr>\n",
              "      <th>Food and drink</th>\n",
              "      <td>-0.005686</td>\n",
              "      <td>0.059553</td>\n",
              "      <td>0.022931</td>\n",
              "      <td>0.063104</td>\n",
              "      <td>0.086895</td>\n",
              "      <td>0.056935</td>\n",
              "      <td>0.134607</td>\n",
              "      <td>0.005192</td>\n",
              "      <td>0.031943</td>\n",
              "      <td>-0.001160</td>\n",
              "      <td>NaN</td>\n",
              "      <td>0.234485</td>\n",
              "      <td>0.574550</td>\n",
              "      <td>0.622380</td>\n",
              "      <td>0.058998</td>\n",
              "      <td>0.032403</td>\n",
              "      <td>0.034811</td>\n",
              "      <td>0.087031</td>\n",
              "      <td>0.034080</td>\n",
              "      <td>0.657639</td>\n",
              "      <td>-0.030487</td>\n",
              "      <td>-0.033033</td>\n",
              "      <td>-0.209641</td>\n",
              "    </tr>\n",
              "    <tr>\n",
              "      <th>Online boarding</th>\n",
              "      <td>0.042159</td>\n",
              "      <td>0.189471</td>\n",
              "      <td>0.208687</td>\n",
              "      <td>0.224625</td>\n",
              "      <td>0.330491</td>\n",
              "      <td>0.215174</td>\n",
              "      <td>0.457018</td>\n",
              "      <td>0.070003</td>\n",
              "      <td>0.404108</td>\n",
              "      <td>0.001461</td>\n",
              "      <td>0.234485</td>\n",
              "      <td>NaN</td>\n",
              "      <td>0.420067</td>\n",
              "      <td>0.285208</td>\n",
              "      <td>0.155338</td>\n",
              "      <td>0.123764</td>\n",
              "      <td>0.083294</td>\n",
              "      <td>0.204202</td>\n",
              "      <td>0.074401</td>\n",
              "      <td>0.331494</td>\n",
              "      <td>-0.019431</td>\n",
              "      <td>-0.022877</td>\n",
              "      <td>-0.503447</td>\n",
              "    </tr>\n",
              "    <tr>\n",
              "      <th>Seat comfort</th>\n",
              "      <td>0.026666</td>\n",
              "      <td>0.159723</td>\n",
              "      <td>0.160315</td>\n",
              "      <td>0.123974</td>\n",
              "      <td>0.232969</td>\n",
              "      <td>0.157501</td>\n",
              "      <td>0.122619</td>\n",
              "      <td>0.011416</td>\n",
              "      <td>0.030022</td>\n",
              "      <td>0.003392</td>\n",
              "      <td>0.574550</td>\n",
              "      <td>0.420067</td>\n",
              "      <td>NaN</td>\n",
              "      <td>0.610617</td>\n",
              "      <td>0.132032</td>\n",
              "      <td>0.105441</td>\n",
              "      <td>0.074554</td>\n",
              "      <td>0.191524</td>\n",
              "      <td>0.069195</td>\n",
              "      <td>0.678470</td>\n",
              "      <td>-0.027658</td>\n",
              "      <td>-0.030245</td>\n",
              "      <td>-0.349098</td>\n",
              "    </tr>\n",
              "    <tr>\n",
              "      <th>Inflight entertainment</th>\n",
              "      <td>-0.006064</td>\n",
              "      <td>0.110112</td>\n",
              "      <td>0.076384</td>\n",
              "      <td>0.147968</td>\n",
              "      <td>0.198940</td>\n",
              "      <td>0.128651</td>\n",
              "      <td>0.209508</td>\n",
              "      <td>-0.004692</td>\n",
              "      <td>0.047178</td>\n",
              "      <td>0.003562</td>\n",
              "      <td>0.622380</td>\n",
              "      <td>0.285208</td>\n",
              "      <td>0.610617</td>\n",
              "      <td>NaN</td>\n",
              "      <td>0.420362</td>\n",
              "      <td>0.299863</td>\n",
              "      <td>0.378367</td>\n",
              "      <td>0.120808</td>\n",
              "      <td>0.405244</td>\n",
              "      <td>0.691742</td>\n",
              "      <td>-0.027579</td>\n",
              "      <td>-0.030623</td>\n",
              "      <td>-0.398204</td>\n",
              "    </tr>\n",
              "    <tr>\n",
              "      <th>On-board service</th>\n",
              "      <td>-0.008019</td>\n",
              "      <td>0.056369</td>\n",
              "      <td>0.057123</td>\n",
              "      <td>0.056473</td>\n",
              "      <td>0.220676</td>\n",
              "      <td>0.109534</td>\n",
              "      <td>0.121489</td>\n",
              "      <td>0.068611</td>\n",
              "      <td>0.038764</td>\n",
              "      <td>-0.028529</td>\n",
              "      <td>0.058998</td>\n",
              "      <td>0.155338</td>\n",
              "      <td>0.132032</td>\n",
              "      <td>0.420362</td>\n",
              "      <td>NaN</td>\n",
              "      <td>0.355653</td>\n",
              "      <td>0.519251</td>\n",
              "      <td>0.243855</td>\n",
              "      <td>0.550733</td>\n",
              "      <td>0.123237</td>\n",
              "      <td>-0.032271</td>\n",
              "      <td>-0.036040</td>\n",
              "      <td>-0.322453</td>\n",
              "    </tr>\n",
              "    <tr>\n",
              "      <th>Leg room service</th>\n",
              "      <td>-0.031835</td>\n",
              "      <td>0.047801</td>\n",
              "      <td>0.040502</td>\n",
              "      <td>0.138682</td>\n",
              "      <td>0.213399</td>\n",
              "      <td>0.133822</td>\n",
              "      <td>0.160496</td>\n",
              "      <td>0.012473</td>\n",
              "      <td>0.107442</td>\n",
              "      <td>-0.005859</td>\n",
              "      <td>0.032403</td>\n",
              "      <td>0.123764</td>\n",
              "      <td>0.105441</td>\n",
              "      <td>0.299863</td>\n",
              "      <td>0.355653</td>\n",
              "      <td>NaN</td>\n",
              "      <td>0.369672</td>\n",
              "      <td>0.153071</td>\n",
              "      <td>0.368939</td>\n",
              "      <td>0.096392</td>\n",
              "      <td>0.013923</td>\n",
              "      <td>0.011405</td>\n",
              "      <td>-0.313179</td>\n",
              "    </tr>\n",
              "    <tr>\n",
              "      <th>Baggage handling</th>\n",
              "      <td>-0.037333</td>\n",
              "      <td>-0.024893</td>\n",
              "      <td>-0.047619</td>\n",
              "      <td>0.031358</td>\n",
              "      <td>0.171112</td>\n",
              "      <td>0.063218</td>\n",
              "      <td>0.121064</td>\n",
              "      <td>0.071905</td>\n",
              "      <td>0.038855</td>\n",
              "      <td>0.002423</td>\n",
              "      <td>0.034811</td>\n",
              "      <td>0.083294</td>\n",
              "      <td>0.074554</td>\n",
              "      <td>0.378367</td>\n",
              "      <td>0.519251</td>\n",
              "      <td>0.369672</td>\n",
              "      <td>NaN</td>\n",
              "      <td>0.233329</td>\n",
              "      <td>0.628950</td>\n",
              "      <td>0.095783</td>\n",
              "      <td>-0.005993</td>\n",
              "      <td>-0.008879</td>\n",
              "      <td>-0.247821</td>\n",
              "    </tr>\n",
              "    <tr>\n",
              "      <th>Checkin service</th>\n",
              "      <td>-0.010415</td>\n",
              "      <td>0.032064</td>\n",
              "      <td>0.035015</td>\n",
              "      <td>-0.017067</td>\n",
              "      <td>0.162364</td>\n",
              "      <td>0.073203</td>\n",
              "      <td>0.043181</td>\n",
              "      <td>0.093333</td>\n",
              "      <td>0.010959</td>\n",
              "      <td>-0.035441</td>\n",
              "      <td>0.087031</td>\n",
              "      <td>0.204202</td>\n",
              "      <td>0.191524</td>\n",
              "      <td>0.120808</td>\n",
              "      <td>0.243855</td>\n",
              "      <td>0.153071</td>\n",
              "      <td>0.233329</td>\n",
              "      <td>NaN</td>\n",
              "      <td>0.237261</td>\n",
              "      <td>0.179409</td>\n",
              "      <td>-0.018347</td>\n",
              "      <td>-0.020661</td>\n",
              "      <td>-0.235897</td>\n",
              "    </tr>\n",
              "    <tr>\n",
              "      <th>Inflight service</th>\n",
              "      <td>-0.038937</td>\n",
              "      <td>-0.023051</td>\n",
              "      <td>-0.049900</td>\n",
              "      <td>0.022488</td>\n",
              "      <td>0.165850</td>\n",
              "      <td>0.057440</td>\n",
              "      <td>0.110621</td>\n",
              "      <td>0.073220</td>\n",
              "      <td>0.035325</td>\n",
              "      <td>0.001738</td>\n",
              "      <td>0.034080</td>\n",
              "      <td>0.074401</td>\n",
              "      <td>0.069195</td>\n",
              "      <td>0.405244</td>\n",
              "      <td>0.550733</td>\n",
              "      <td>0.368939</td>\n",
              "      <td>0.628950</td>\n",
              "      <td>0.237261</td>\n",
              "      <td>NaN</td>\n",
              "      <td>0.088895</td>\n",
              "      <td>-0.054817</td>\n",
              "      <td>-0.059596</td>\n",
              "      <td>-0.244857</td>\n",
              "    </tr>\n",
              "    <tr>\n",
              "      <th>Cleanliness</th>\n",
              "      <td>-0.006417</td>\n",
              "      <td>0.083757</td>\n",
              "      <td>0.053505</td>\n",
              "      <td>0.078747</td>\n",
              "      <td>0.139341</td>\n",
              "      <td>0.093101</td>\n",
              "      <td>0.132656</td>\n",
              "      <td>0.014339</td>\n",
              "      <td>0.016194</td>\n",
              "      <td>-0.004005</td>\n",
              "      <td>0.657639</td>\n",
              "      <td>0.331494</td>\n",
              "      <td>0.678470</td>\n",
              "      <td>0.691742</td>\n",
              "      <td>0.123237</td>\n",
              "      <td>0.096392</td>\n",
              "      <td>0.095783</td>\n",
              "      <td>0.179409</td>\n",
              "      <td>0.088895</td>\n",
              "      <td>NaN</td>\n",
              "      <td>-0.014066</td>\n",
              "      <td>-0.016013</td>\n",
              "      <td>-0.305034</td>\n",
              "    </tr>\n",
              "    <tr>\n",
              "      <th>Departure Delay in Minutes</th>\n",
              "      <td>-0.002632</td>\n",
              "      <td>-0.004738</td>\n",
              "      <td>-0.010336</td>\n",
              "      <td>0.006514</td>\n",
              "      <td>-0.010460</td>\n",
              "      <td>0.001387</td>\n",
              "      <td>-0.017292</td>\n",
              "      <td>0.001314</td>\n",
              "      <td>-0.005982</td>\n",
              "      <td>0.005857</td>\n",
              "      <td>-0.030487</td>\n",
              "      <td>-0.019431</td>\n",
              "      <td>-0.027658</td>\n",
              "      <td>-0.027579</td>\n",
              "      <td>-0.032271</td>\n",
              "      <td>0.013923</td>\n",
              "      <td>-0.005993</td>\n",
              "      <td>-0.018347</td>\n",
              "      <td>-0.054817</td>\n",
              "      <td>-0.014066</td>\n",
              "      <td>NaN</td>\n",
              "      <td>0.964538</td>\n",
              "      <td>0.051252</td>\n",
              "    </tr>\n",
              "    <tr>\n",
              "      <th>Arrival Delay in Minutes</th>\n",
              "      <td>-0.000467</td>\n",
              "      <td>-0.005150</td>\n",
              "      <td>-0.012353</td>\n",
              "      <td>0.006136</td>\n",
              "      <td>-0.015029</td>\n",
              "      <td>-0.002984</td>\n",
              "      <td>-0.018956</td>\n",
              "      <td>-0.000378</td>\n",
              "      <td>-0.007703</td>\n",
              "      <td>0.005449</td>\n",
              "      <td>-0.033033</td>\n",
              "      <td>-0.022877</td>\n",
              "      <td>-0.030245</td>\n",
              "      <td>-0.030623</td>\n",
              "      <td>-0.036040</td>\n",
              "      <td>0.011405</td>\n",
              "      <td>-0.008879</td>\n",
              "      <td>-0.020661</td>\n",
              "      <td>-0.059596</td>\n",
              "      <td>-0.016013</td>\n",
              "      <td>0.964538</td>\n",
              "      <td>NaN</td>\n",
              "      <td>0.058370</td>\n",
              "    </tr>\n",
              "    <tr>\n",
              "      <th>satisfaction</th>\n",
              "      <td>0.012337</td>\n",
              "      <td>-0.187559</td>\n",
              "      <td>-0.137051</td>\n",
              "      <td>-0.448985</td>\n",
              "      <td>-0.503934</td>\n",
              "      <td>-0.298903</td>\n",
              "      <td>-0.284168</td>\n",
              "      <td>0.051717</td>\n",
              "      <td>-0.171511</td>\n",
              "      <td>-0.000458</td>\n",
              "      <td>-0.209641</td>\n",
              "      <td>-0.503447</td>\n",
              "      <td>-0.349098</td>\n",
              "      <td>-0.398204</td>\n",
              "      <td>-0.322453</td>\n",
              "      <td>-0.313179</td>\n",
              "      <td>-0.247821</td>\n",
              "      <td>-0.235897</td>\n",
              "      <td>-0.244857</td>\n",
              "      <td>-0.305034</td>\n",
              "      <td>0.051252</td>\n",
              "      <td>0.058370</td>\n",
              "      <td>NaN</td>\n",
              "    </tr>\n",
              "  </tbody>\n",
              "</table>\n",
              "</div>"
            ],
            "text/plain": [
              "                                     Gender  ...  satisfaction\n",
              "Gender                                  NaN  ...      0.012337\n",
              "Customer Type                     -0.031558  ...     -0.187559\n",
              "Age                               -0.008930  ...     -0.137051\n",
              "Type of Travel                     0.006829  ...     -0.448985\n",
              "Class                             -0.010455  ...     -0.503934\n",
              "Flight Distance                   -0.006062  ...     -0.298903\n",
              "Inflight wifi service             -0.008964  ...     -0.284168\n",
              "Departure/Arrival time convenient -0.008847  ...      0.051717\n",
              "Ease of Online booking            -0.007166  ...     -0.171511\n",
              "Gate location                     -0.000221  ...     -0.000458\n",
              "Food and drink                    -0.005686  ...     -0.209641\n",
              "Online boarding                    0.042159  ...     -0.503447\n",
              "Seat comfort                       0.026666  ...     -0.349098\n",
              "Inflight entertainment            -0.006064  ...     -0.398204\n",
              "On-board service                  -0.008019  ...     -0.322453\n",
              "Leg room service                  -0.031835  ...     -0.313179\n",
              "Baggage handling                  -0.037333  ...     -0.247821\n",
              "Checkin service                   -0.010415  ...     -0.235897\n",
              "Inflight service                  -0.038937  ...     -0.244857\n",
              "Cleanliness                       -0.006417  ...     -0.305034\n",
              "Departure Delay in Minutes        -0.002632  ...      0.051252\n",
              "Arrival Delay in Minutes          -0.000467  ...      0.058370\n",
              "satisfaction                       0.012337  ...           NaN\n",
              "\n",
              "[23 rows x 23 columns]"
            ]
          },
          "metadata": {},
          "execution_count": 105
        }
      ],
      "metadata": {
        "colab": {
          "base_uri": "https://localhost:8080/",
          "height": 969
        },
        "id": "To10PYVQmQHn",
        "outputId": "0f01eab8-9fd7-4127-ec52-fdfbcf100a68"
      }
    },
    {
      "cell_type": "markdown",
      "source": [
        "**Plotting dengan Heat Map**"
      ],
      "metadata": {
        "id": "SkelErO0q_jS"
      }
    },
    {
      "cell_type": "code",
      "execution_count": 106,
      "source": [
        "plt.figure(figsize = (18,9))\r\n",
        "sns.heatmap(correlation, annot = True)"
      ],
      "outputs": [
        {
          "output_type": "execute_result",
          "data": {
            "text/plain": [
              "<matplotlib.axes._subplots.AxesSubplot at 0x7f7d7187d410>"
            ]
          },
          "metadata": {},
          "execution_count": 106
        },
        {
          "output_type": "display_data",
          "data": {
            "image/png": "[encoded data removed]",
            "text/plain": [
              "<Figure size 1296x648 with 2 Axes>"
            ]
          },
          "metadata": {
            "needs_background": "light"
          }
        }
      ],
      "metadata": {
        "colab": {
          "base_uri": "https://localhost:8080/",
          "height": 715
        },
        "id": "TIvE83ktpOpe",
        "outputId": "7df5f65f-445f-432f-e2f9-1f0a8d4af93a"
      }
    },
    {
      "cell_type": "code",
      "execution_count": 107,
      "source": [
        "correlation.unstack().sort_values(kind = 'quicksort', na_position = 'first').drop_duplicates(keep = 'first')"
      ],
      "outputs": [
        {
          "output_type": "execute_result",
          "data": {
            "text/plain": [
              "Gender                    Gender                             NaN\n",
              "satisfaction              Class                        -0.503934\n",
              "Online boarding           satisfaction                 -0.503447\n",
              "satisfaction              Type of Travel               -0.448985\n",
              "Inflight entertainment    satisfaction                 -0.398204\n",
              "                                                          ...   \n",
              "Food and drink            Cleanliness                   0.657639\n",
              "Seat comfort              Cleanliness                   0.678470\n",
              "Inflight entertainment    Cleanliness                   0.691742\n",
              "Ease of Online booking    Inflight wifi service         0.715846\n",
              "Arrival Delay in Minutes  Departure Delay in Minutes    0.964538\n",
              "Length: 254, dtype: float64"
            ]
          },
          "metadata": {},
          "execution_count": 107
        }
      ],
      "metadata": {
        "colab": {
          "base_uri": "https://localhost:8080/"
        },
        "id": "6ifm3-OIpg2_",
        "outputId": "55d3d12c-abf4-4bbd-8a2a-ce45169cf651"
      }
    },
    {
      "cell_type": "code",
      "execution_count": 108,
      "source": [
        "data.corr().abs()['satisfaction'].sort_values(ascending = False)"
      ],
      "outputs": [
        {
          "output_type": "execute_result",
          "data": {
            "text/plain": [
              "satisfaction                         1.000000\n",
              "Class                                0.503934\n",
              "Online boarding                      0.503447\n",
              "Type of Travel                       0.448985\n",
              "Inflight entertainment               0.398204\n",
              "Seat comfort                         0.349098\n",
              "On-board service                     0.322453\n",
              "Leg room service                     0.313179\n",
              "Cleanliness                          0.305034\n",
              "Flight Distance                      0.298903\n",
              "Inflight wifi service                0.284168\n",
              "Baggage handling                     0.247821\n",
              "Inflight service                     0.244857\n",
              "Checkin service                      0.235897\n",
              "Food and drink                       0.209641\n",
              "Customer Type                        0.187559\n",
              "Ease of Online booking               0.171511\n",
              "Age                                  0.137051\n",
              "Arrival Delay in Minutes             0.058370\n",
              "Departure/Arrival time convenient    0.051717\n",
              "Departure Delay in Minutes           0.051252\n",
              "Gender                               0.012337\n",
              "Gate location                        0.000458\n",
              "Name: satisfaction, dtype: float64"
            ]
          },
          "metadata": {},
          "execution_count": 108
        }
      ],
      "metadata": {
        "colab": {
          "base_uri": "https://localhost:8080/"
        },
        "id": "s6WTuk6_p3dG",
        "outputId": "9a2fee85-5efd-4396-994b-cec964d423cb"
      }
    },
    {
      "cell_type": "markdown",
      "source": [
        "Berdasarkan hasil visualisasi, maka didapatkan beberapa instances yang korelasinya sangat kuat dengan **Satisfaction**. Adapun 5 layanan yang paling memberikan **Satisfaction** bagi penumpang adalah **Class**, **Online Boarding**, **Type of Travel**, **Inflight Entertainment**, dan **Seat Comfort**"
      ],
      "metadata": {
        "id": "TNl8FTnUrHF-"
      }
    },
    {
      "cell_type": "markdown",
      "source": [
        "Sedangkan 5 layanan yang mungkin bisa di improve pihak maskapai dari segi layanan on-board adalah **Inflight Entertainment**, **Seat Comfort**, **On-Board Service**, **Leg Room Service**, dan **Cleanliness**."
      ],
      "metadata": {
        "id": "L3EUFZjJr4wi"
      }
    },
    {
      "cell_type": "markdown",
      "source": [
        "# **K-Nearest Neighbors**"
      ],
      "metadata": {
        "id": "bo1XkaT00NBF"
      }
    },
    {
      "cell_type": "markdown",
      "source": [
        "Selanjutnya akan dilakukan prediksi dengan Machine Learning menggunakan Algoritma K-Nearest Neightbors"
      ],
      "metadata": {
        "id": "EBu8wcT-sXMa"
      }
    },
    {
      "cell_type": "markdown",
      "source": [
        "**Dataset Training dan Testing**"
      ],
      "metadata": {
        "id": "Z47iUcZmsm-8"
      }
    },
    {
      "cell_type": "code",
      "execution_count": 109,
      "source": [
        "X = data.drop('satisfaction', axis=1).iloc[:5000].values\r\n",
        "y = data['satisfaction'].iloc[:5000].values"
      ],
      "outputs": [],
      "metadata": {
        "id": "hgWnar4UliZg"
      }
    },
    {
      "cell_type": "code",
      "execution_count": 110,
      "source": [
        "from sklearn.model_selection import train_test_split\r\n",
        "X_train, X_test, y_train, y_test = train_test_split(X, y, test_size = 0.2)"
      ],
      "outputs": [],
      "metadata": {
        "id": "phbQo4jcnq_L"
      }
    },
    {
      "cell_type": "markdown",
      "source": [
        "Untuk kemudahan, karena jumlah dataset yang sangat besar akan memakan waktu lama dalam proses training, maka untuk prediksi ini akan digunakan 5000 data saja dengan perbandingan train:test adalah 80:20."
      ],
      "metadata": {
        "id": "xJj5P7y1st1H"
      }
    },
    {
      "cell_type": "markdown",
      "source": [
        "**Main Function untuk Algoritma KNN**"
      ],
      "metadata": {
        "id": "kOhbpwVpvcAw"
      }
    },
    {
      "cell_type": "code",
      "execution_count": 111,
      "source": [
        "import numpy as np\r\n",
        "import pandas as pd\r\n",
        "import scipy as sp\r\n",
        "from sklearn.metrics import accuracy_score\r\n",
        "\r\n",
        "class MyKNeighborsClassifier():\r\n",
        " \r\n",
        "    def __init__(self, n_neighbors=5):\r\n",
        "        self.n_neighbors=n_neighbors\r\n",
        "\r\n",
        "    # X digunakan untuk array features, sedangkan y sebagai array labels    \r\n",
        "    def fit(self, X, y):\r\n",
        "        \r\n",
        "        n_samples = X.shape[0]\r\n",
        "        # Cek jumlah neighbor tidak boleh lebih dari jumlah sample\r\n",
        "        if self.n_neighbors > n_samples:\r\n",
        "            raise ValueError(\"Number of neighbors can't be larger then number of samples in training set.\")\r\n",
        "        \r\n",
        "        # Cek jumlah data dan label harus sama\r\n",
        "        if X.shape[0] != y.shape[0]:\r\n",
        "            raise ValueError(\"Number of samples in X and y need to be equal.\")\r\n",
        "        \r\n",
        "        # finding and saving all possible class labels\r\n",
        "        self.classes_ = np.unique(y)\r\n",
        "        \r\n",
        "        self.X = X\r\n",
        "        self.y = y\r\n",
        "        \r\n",
        "    def predict(self, X_test):\r\n",
        "        \r\n",
        "        # number of predictions to make and number of features inside single sample\r\n",
        "        n_predictions, n_features = X_test.shape\r\n",
        "        \r\n",
        "        # allocationg space for array of predictions\r\n",
        "        predictions = np.empty(n_predictions, dtype=int)\r\n",
        "        \r\n",
        "        # loop over all observations\r\n",
        "        for i in range(n_predictions):\r\n",
        "            # calculation of single prediction\r\n",
        "            predictions[i] = single_prediction(self.X, self.y, X_test[i, :], self.n_neighbors)\r\n",
        "\r\n",
        "        return (predictions)"
      ],
      "outputs": [],
      "metadata": {
        "id": "WtmyCBVQj663"
      }
    },
    {
      "cell_type": "code",
      "execution_count": 112,
      "source": [
        "def single_prediction(X, y, x_train, k):\r\n",
        "    \r\n",
        "    # number of samples inside training set\r\n",
        "    n_samples = X.shape[0]\r\n",
        "    \r\n",
        "    # create array for distances and targets\r\n",
        "    distances = np.empty(n_samples, dtype=np.float64)\r\n",
        "\r\n",
        "    # distance calculation\r\n",
        "    for i in range(n_samples):\r\n",
        "        distances[i] = (x_train - X[i]).dot(x_train - X[i])\r\n",
        "    \r\n",
        "    # combining arrays as columns\r\n",
        "    distances = sp.c_[distances, y]\r\n",
        "    # sorting array by value of first column\r\n",
        "    sorted_distances = distances[distances[:,0].argsort()]\r\n",
        "    # celecting labels associeted with k smallest distances\r\n",
        "    targets = sorted_distances[0:k,1]\r\n",
        "\r\n",
        "    unique, counts = np.unique(targets, return_counts=True)\r\n",
        "    return(unique[np.argmax(counts)])"
      ],
      "outputs": [],
      "metadata": {
        "id": "CduAwKDRk9q0"
      }
    },
    {
      "cell_type": "code",
      "execution_count": 113,
      "source": [
        "# Instantiate learning model (k = 7)\r\n",
        "my_classifier = MyKNeighborsClassifier(n_neighbors=7)\r\n",
        "\r\n",
        "# Fitting the model\r\n",
        "my_classifier.fit(X_train, y_train)\r\n",
        "\r\n",
        "# Predicting the Test set results\r\n",
        "my_y_pred = my_classifier.predict(X_test)"
      ],
      "outputs": [],
      "metadata": {
        "id": "VQt5tC05lJ8L"
      }
    },
    {
      "cell_type": "code",
      "execution_count": 114,
      "source": [
        "accuracy = accuracy_score(y_test, my_y_pred)*100\r\n",
        "print('Accuracy of our model is equal ' + str(round(accuracy, 2)) + ' %.')"
      ],
      "outputs": [
        {
          "output_type": "stream",
          "name": "stdout",
          "text": [
            "Accuracy of our model is equal 73.6 %.\n"
          ]
        }
      ],
      "metadata": {
        "colab": {
          "base_uri": "https://localhost:8080/"
        },
        "id": "Hd36MIDFlKei",
        "outputId": "83769d49-4c96-45b2-f4f2-51fd7f95f603"
      }
    },
    {
      "cell_type": "markdown",
      "source": [
        "Hasil akhir dari model prediksi didapatkan nilai akurasi sebesar **73.6%**"
      ],
      "metadata": {
        "id": "yEP69aOqtHDZ"
      }
    },
    {
      "cell_type": "markdown",
      "source": [
        "# **Conclusion**"
      ],
      "metadata": {
        "id": "_AdfIO3ktObG"
      }
    },
    {
      "cell_type": "markdown",
      "source": [
        "Secara umum, tujuan dari analysis ini sudah didapatkan. Berdasarkan hasil analisis survey, layanan dari maskapai penerbangan yang sangat mempengaruhi tingkat kepuasan penumpang adalah **Class**, **Online Boarding**, **Type of Travel**, **Inflight Entertainment**, dan **Seat Comfort**.\n",
        "\n",
        "Sedangkan untuk on-board service yang bisa ditingkatkan oleh pihak maskapai antara lain adalah **Inflight Entertainment**, **Seat Comfort**, **On-Board Service**, **Leg Room Service**, dan **Cleanliness**.\n",
        "\n",
        "Berdasarkan prediksi juga, apabila pihak maskapai **memfokuskan improvement pada layanan-layanan diatas**, maka kami bisa memprediksi dengan **tingkat kepercayaan** sebesar **73.6%** bahwa penumpang akan merasa puas dengan penerbangan mereka."
      ],
      "metadata": {
        "id": "WbuT73QytSTU"
      }
    },
    {
      "cell_type": "markdown",
      "source": [
        "**Referensi**\n",
        "\n",
        "https://www.kaggle.com/nicolasgertler/airline-passenger-satisfaction-prediction-9-6\n",
        "\n",
        "https://www.kaggle.com/skalskip/iris-data-visualization-and-knn-classification"
      ],
      "metadata": {
        "id": "dfaawWtyuWrq"
      }
    }
  ]
}